{
 "cells": [
  {
   "cell_type": "code",
   "execution_count": 34,
   "metadata": {},
   "outputs": [],
   "source": [
    "from openai import OpenAI\n",
    "import os"
   ]
  },
  {
   "cell_type": "code",
   "execution_count": 35,
   "metadata": {},
   "outputs": [],
   "source": [
    "agent = os.getenv(\"Agent1\")"
   ]
  },
  {
   "cell_type": "code",
   "execution_count": 90,
   "metadata": {},
   "outputs": [],
   "source": [
    "def chat(prompt):\n",
    "    # Initialize the OpenAI client with the provided API key\n",
    "    client = OpenAI(api_key=agent)\n",
    "\n",
    "    # Send the chat completion request to the OpenAI API\n",
    "    output = client.chat.completions.create(\n",
    "        model=\"gpt-4\",  # You can specify other models if required\n",
    "        messages=[{\"role\": \"user\", \"content\": prompt}],\n",
    "        max_tokens=150,  # You can adjust this value based on your needs\n",
    "        temperature=0.7,  # Adjust creativity; 1.0 is more diverse, 0 is deterministic\n",
    "        stop=None  # You can define stop sequences if needed\n",
    "    )\n",
    "    \n",
    "    # Extract the content of the latest response from the assistant\n",
    "    response_text = output.choices[0].message.content\n",
    "\n",
    "    # Return the assistant's response text\n",
    "    return response_text"
   ]
  },
  {
   "cell_type": "code",
   "execution_count": 39,
   "metadata": {},
   "outputs": [
    {
     "name": "stdout",
     "output_type": "stream",
     "text": [
      "I'm an AI and I don't have real-time data. Could you please let me know your current location so I can provide you with the weather information?\n"
     ]
    }
   ],
   "source": [
    "conversation_history = []\n",
    "\n",
    "# Example usage of the chat function\n",
    "response = chat(\"What's the weather like today?\")\n",
    "print(response)"
   ]
  },
  {
   "cell_type": "code",
   "execution_count": 91,
   "metadata": {},
   "outputs": [],
   "source": [
    "def manager(prompt):\n",
    "    final_output = False\n",
    "    \n",
    "    while not final_output:\n",
    "        print(prompt)\n",
    "        task = prompt[:20].lower()\n",
    "        \n",
    "        # Determine the task type and set appropriate instructions\n",
    "        if 'program' in task:\n",
    "            instruction = f\"\"\"\n",
    "            Instructions: \n",
    "            ```\n",
    "            Remove the 'program' line from input before proceeding\n",
    "            You are a programmer. Your task is to take an instruction for writing a program, and write the program in python.\n",
    "            The backticks indicate the scope of the prompt.\n",
    "            You shall write the first line with \"debug\", followed by outputting the program you wrote.\n",
    "            The program and \"debug\" text shall be the ONLY output, with no additional text whatsoever. No greeting texts like \"sure! This is a great idea\" or anything of the sort.\n",
    "            ```\n",
    "            Prompt: \n",
    "            ```\n",
    "            {prompt}\n",
    "            ```\n",
    "            \"\"\"\n",
    "            print(\"handing text to programmer agent\")\n",
    "        elif 'debug' in task:\n",
    "            instruction = f\"\"\"\n",
    "            Instructions: \n",
    "            ```\n",
    "            Remove the 'debug' line from input before proceeding\n",
    "            You are a programmer. Your task is to examine a python program, and look for errors. Look carefully for errors. Avoid false positives if you cannot find errors.\n",
    "            The backticks indicate the scope of the prompt.\n",
    "            Your output shall be structured in 2 parts:\n",
    "            Part 1:\n",
    "            If no errors are found, you shall write the instruction \"quality\" in the first line of your output.\n",
    "            If there are errors, you shall write the instruction \"program\" in the first line of your output, then write instructions for how to correct the errors. \n",
    "            If there is no program, you shall write the instruction \"final\" in the frist line of your output. Then, write message to indicate program is missing.\n",
    "            Part 2:\n",
    "            You shall return the program exactly as-is, with no changes or omissions whatsoever.\n",
    "            ```\n",
    "            Prompt: \n",
    "            ```\n",
    "            {prompt}\n",
    "            ```\n",
    "            \"\"\"\n",
    "            print(\"Handing text to debug agent\")\n",
    "        elif 'quality' in task:\n",
    "            instruction = f\"\"\"\n",
    "            Instructions: \n",
    "            ```\n",
    "            Remove the 'quality' line from input before proceeding\n",
    "            You are a software quality controller Your task is to examine a python program, and evaluate its quality. \n",
    "            The backticks indicate the scope of the prompt. \n",
    "            You shall evaluate the quality of the program on a scale of 1 to 10. Once you evaluate the program, you shall make a decision based on the quality score you gave. \n",
    "            Your output shall be structured in 2 parts: \n",
    "            Part1:\n",
    "            If quality is 7 or above, the first line of your output shall be the text \"final\". \n",
    "            If the quality of the program is below 7, the first line of your output shall be \"program\". You shall then write instructions on what needs to be improved, and how to improve it.\n",
    "            Part2:\n",
    "            You shall return the program exactly as-is, with no changes or omissions whatsoever.\n",
    "            ```\n",
    "            Prompt: \n",
    "            ```\n",
    "            {prompt}\n",
    "            ```\n",
    "            \"\"\"\n",
    "            print(\"Handing text to quality control agent\")\n",
    "        \n",
    "        else:\n",
    "            print(\"final output recieved\")\n",
    "            return prompt\n",
    "        prompt = chat(instruction)"
   ]
  },
  {
   "cell_type": "code",
   "execution_count": 92,
   "metadata": {},
   "outputs": [
    {
     "name": "stdout",
     "output_type": "stream",
     "text": [
      "program        Write a simple program to count from 1 to 10\n",
      "handing text to programmer agent\n",
      "debug\n",
      "```python\n",
      "for i in range(1, 11):\n",
      "    print(i)\n",
      "```\n",
      "Handing text to debug agent\n",
      "Part 1: \n",
      "quality\n",
      "\n",
      "Part 2: \n",
      "```python\n",
      "for i in range(1, 11):\n",
      "    print(i)\n",
      "```\n",
      "Handing text to quality control agent\n",
      "Part 1: \n",
      "final\n",
      "\n",
      "Part 2: \n",
      "```python\n",
      "for i in range(1, 11):\n",
      "    print(i)\n",
      "```\n",
      "final output\n",
      "Part 1: \n",
      "final\n",
      "\n",
      "Part 2: \n",
      "```python\n",
      "for i in range(1, 11):\n",
      "    print(i)\n",
      "```\n"
     ]
    }
   ],
   "source": [
    "input = \"\"\"program        Write a simple program to count from 1 to 10\"\"\"\n",
    "result = manager(input)\n",
    "print(result)"
   ]
  }
 ],
 "metadata": {
  "kernelspec": {
   "display_name": "Python 3",
   "language": "python",
   "name": "python3"
  },
  "language_info": {
   "codemirror_mode": {
    "name": "ipython",
    "version": 3
   },
   "file_extension": ".py",
   "mimetype": "text/x-python",
   "name": "python",
   "nbconvert_exporter": "python",
   "pygments_lexer": "ipython3",
   "version": "3.11.9"
  }
 },
 "nbformat": 4,
 "nbformat_minor": 2
}
